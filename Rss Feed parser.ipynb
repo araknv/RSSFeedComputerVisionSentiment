{
 "cells": [
  {
   "cell_type": "code",
   "execution_count": 1,
   "metadata": {},
   "outputs": [],
   "source": [
    "# feedparser is a python library to parse python feeds\n",
    "import feedparser\n",
    "\n",
    "import pandas as pd\n"
   ]
  },
  {
   "cell_type": "code",
   "execution_count": 2,
   "metadata": {},
   "outputs": [],
   "source": [
    "# connecting to mongo Database\n",
    "\n",
    "from pymongo import MongoClient\n",
    "\n",
    "\n",
    "# key credential for mongo cluster\n",
    "MONGO_CLIENT_KEY = \"you wish\"\n",
    "\n",
    "# using MongoClient  Credentials & instance   to connect to \n",
    "client = MongoClient(MONGO_CLIENT_KEY)\n",
    "db = client.finalAssignment"
   ]
  },
  {
   "cell_type": "code",
   "execution_count": 3,
   "metadata": {},
   "outputs": [],
   "source": [
    "# reading data from collectioon and getting words using textblob\n",
    "from textblob import TextBlob as tb\n",
    "\n",
    "# cleaning data removing tags\n",
    "def cleanData(str):\n",
    "    filterWords = list()\n",
    "    blob = tb(str)\n",
    "    filterTags = list(['VBD', 'DT','TO', 'CD', 'CC', 'IN', 'VBZ', 'VB'])\n",
    "    for word,tag in blob.tags:\n",
    "        if (tag not in filterTags): \n",
    "            filterWords.append(word.lemmatize())\n",
    "    return \" \".join(filterWords)"
   ]
  },
  {
   "cell_type": "code",
   "execution_count": 4,
   "metadata": {},
   "outputs": [],
   "source": [
    "# for anlysing data\n",
    "from vaderSentiment.vaderSentiment import SentimentIntensityAnalyzer\n",
    "analyser = SentimentIntensityAnalyzer()\n",
    "\n",
    "def getVaderPoolarityScores(string):\n",
    "    return analyser.polarity_scores(string)\n",
    "\n",
    "            \n",
    "# get string sentiment\n",
    "def getSentiment(string):\n",
    "    polarityScores = getVaderPoolarityScores(string)\n",
    "    result = ''\n",
    "    \n",
    "    if polarityScores['compound'] < -0.5 and polarityScores['neg']-polarityScores['pos'] > 0 :\n",
    "        result = 'Negative'\n",
    "    elif polarityScores['compound'] > 0.5 and polarityScores['pos']-polarityScores['neg'] > 0 :\n",
    "        result =  'Positive'\n",
    "    else:\n",
    "        result = 'Neutral'\n",
    "    \n",
    "    polarityScores['sentiment'] = result\n",
    "    return polarityScores\n"
   ]
  },
  {
   "cell_type": "code",
   "execution_count": 5,
   "metadata": {},
   "outputs": [],
   "source": [
    "def addToDB(dbInstanceCol, item):\n",
    "    dbInstanceCol.insert_one(item)\n",
    "\n",
    "# parse item data for each entries\n",
    "def parseEntries(item):\n",
    "        title = item.title\n",
    "        image = item.image.href\n",
    "        summary = item.summary\n",
    "        \n",
    "        cleanSummary = cleanData(summary)\n",
    "        summarySentimetnt = getSentiment(summary)\n",
    "\n",
    "        return {\n",
    "            'titile': title,\n",
    "            'summary': summary,\n",
    "            'cleanSummary': cleanSummary,\n",
    "            'image': image,\n",
    "            'vader_compound': summarySentimetnt['compound'],\n",
    "            'vader_neg': summarySentimetnt['neg'],\n",
    "            'vader_pos': summarySentimetnt['pos'],\n",
    "            'sentiment': summarySentimetnt['sentiment']\n",
    "            \n",
    "        }"
   ]
  },
  {
   "cell_type": "code",
   "execution_count": 6,
   "metadata": {},
   "outputs": [],
   "source": [
    "def  parseRSS(source, collection):\n",
    "    s = feedparser.parse(source)\n",
    "    entries = s.entries\n",
    "    for item in entries[:100]:\n",
    "        dbObj = parseEntries(item)\n",
    "        addToDB(collection, dbObj)\n",
    "    "
   ]
  },
  {
   "cell_type": "code",
   "execution_count": 7,
   "metadata": {},
   "outputs": [],
   "source": [
    "source1 = \"http://joeroganexp.joerogan.libsynpro.com/rss\"\n",
    "hashtag1Col = db.source1\n",
    "\n",
    "parseRSS(source1, hashtag1Col)\n",
    "\n",
    "# source1df.columns = ['titile', 'summary', 'cleanSummary', 'image', 'sentiment'] \n",
    "\n",
    "# source1df.to_excel(\"source1df.xlsx\")\n",
    "\n"
   ]
  },
  {
   "cell_type": "code",
   "execution_count": 8,
   "metadata": {},
   "outputs": [],
   "source": [
    "source2 = \"https://feeds.npr.org/510312/podcast.xml\"\n",
    "hashtag2Col = db.source2\n",
    "parseRSS(source2, hashtag2Col)"
   ]
  },
  {
   "cell_type": "code",
   "execution_count": 9,
   "metadata": {},
   "outputs": [],
   "source": [
    "source3 = \"https://www.omnycontent.com/d/playlist/aaea4e69-af51-495e-afc9-a9760146922b/44bbf446-4627-4f83-a7fd-ab070007db11/72b96aa8-88bd-480a-87af-ab070007db36/podcast.rss\"\n",
    "hashtag3Col = db.source3\n",
    "parseRSS(source3, hashtag3Col)"
   ]
  },
  {
   "cell_type": "code",
   "execution_count": 10,
   "metadata": {},
   "outputs": [],
   "source": [
    "source4 = \"https://mcsorleys.barstoolsports.com/feed/call-her-daddy\"\n",
    "hashtag4Col = db.source4\n",
    "parseRSS(source4, hashtag4Col)"
   ]
  },
  {
   "cell_type": "code",
   "execution_count": 11,
   "metadata": {},
   "outputs": [],
   "source": [
    "source5 = \"https://podcastfeeds.nbcnews.com/dateline-nbc\"\n",
    "hashtag5Col = db.source5\n",
    "parseRSS(source5, hashtag5Col)"
   ]
  },
  {
   "cell_type": "code",
   "execution_count": null,
   "metadata": {},
   "outputs": [],
   "source": []
  }
 ],
 "metadata": {
  "kernelspec": {
   "display_name": "Python 3",
   "language": "python",
   "name": "python3"
  },
  "language_info": {
   "codemirror_mode": {
    "name": "ipython",
    "version": 3
   },
   "file_extension": ".py",
   "mimetype": "text/x-python",
   "name": "python",
   "nbconvert_exporter": "python",
   "pygments_lexer": "ipython3",
   "version": "3.7.6"
  }
 },
 "nbformat": 4,
 "nbformat_minor": 4
}
